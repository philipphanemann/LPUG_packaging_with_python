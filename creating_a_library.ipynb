{
 "cells": [
  {
   "cell_type": "markdown",
   "metadata": {},
   "source": [
    "# How to creat a python package/\n",
    "# write reusable code\n",
    "\n",
    "Philipp Haneman\n",
    "\n",
    "Python User Group - Leipzig - Sep 2017"
   ]
  },
  {
   "cell_type": "markdown",
   "metadata": {
    "slideshow": {
     "slide_type": "slide"
    }
   },
   "source": [
    "# Why?"
   ]
  },
  {
   "cell_type": "markdown",
   "metadata": {
    "slideshow": {
     "slide_type": "fragment"
    }
   },
   "source": [
    "- reuse old work (don' invent the wheel twice)\n",
    "- generate mature code (sustainably remove bugs)\n",
    "- structure your code"
   ]
  },
  {
   "cell_type": "markdown",
   "metadata": {
    "slideshow": {
     "slide_type": "slide"
    }
   },
   "source": [
    "# How - Option 1: embedding into scripts\n"
   ]
  },
  {
   "cell_type": "markdown",
   "metadata": {
    "slideshow": {
     "slide_type": "subslide"
    }
   },
   "source": [
    "```python\n",
    "# reusable_code.py\n",
    "def some_reusable_func():\n",
    "    \"\"\" remember to write a doc string\"\"\"\n",
    "    return 'some result'\n",
    "    \n",
    "class ReusableClass():\n",
    "    \"\"\" remember to write a doc string\"\"\"\n",
    "    pass\n",
    "    \n",
    "if __name__ == '__main__':\n",
    "    # some code for running this script\n",
    "```\n",
    "\n"
   ]
  },
  {
   "cell_type": "markdown",
   "metadata": {
    "slideshow": {
     "slide_type": "subslide"
    }
   },
   "source": [
    "```python\n",
    "# some_importing_module.py\n",
    "from reusable_code import some_reusable_func, ReusableClass\n",
    "\n",
    "# now I can do something with the imported stuff without running reusable_code.py\n",
    "```\n"
   ]
  },
  {
   "cell_type": "markdown",
   "metadata": {
    "slideshow": {
     "slide_type": "fragment"
    }
   },
   "source": [
    "## BUT !\n",
    "The module ```reusable_code.py``` has to be in the same folder or in your python PATH. \n"
   ]
  },
  {
   "cell_type": "markdown",
   "metadata": {
    "slideshow": {
     "slide_type": "fragment"
    }
   },
   "source": [
    "\n",
    "Essentially, we want to acces our source code conveniently frome everywhere in our environment."
   ]
  },
  {
   "cell_type": "markdown",
   "metadata": {
    "slideshow": {
     "slide_type": "slide"
    }
   },
   "source": [
    "# How - Option 2: creating an own package\n",
    "It offers the following:\n",
    "\n",
    "```python \n",
    "from mylib.reusable_code import some_reusable_func```\n"
   ]
  },
  {
   "cell_type": "markdown",
   "metadata": {
    "slideshow": {
     "slide_type": "fragment"
    }
   },
   "source": [
    "### some wording\n",
    "- module: single file\n",
    "- package: collection of modules\n"
   ]
  },
  {
   "cell_type": "markdown",
   "metadata": {
    "slideshow": {
     "slide_type": "fragment"
    }
   },
   "source": [
    "A great recipe can be found on: [How To Package Your Python Code](https://python-packaging.readthedocs.io/en/latest/)"
   ]
  },
  {
   "cell_type": "markdown",
   "metadata": {
    "slideshow": {
     "slide_type": "slide"
    }
   },
   "source": [
    "## minimal folder structure  \n",
    "```\n",
    "mylib\n",
    "│   setup.py\n",
    "│   README.md\n",
    "│   .git  \n",
    "└───mylib\n",
    "    │  __init__.py\n",
    "    │  reusable_code.py ```\n",
    "\n"
   ]
  },
  {
   "cell_type": "markdown",
   "metadata": {
    "slideshow": {
     "slide_type": "fragment"
    }
   },
   "source": [
    "Actually, only ```__init__.py``` and ```setup.py``` are required. \n",
    "\n",
    "Nevertheless, be nice to the user! :-)"
   ]
  },
  {
   "cell_type": "markdown",
   "metadata": {
    "slideshow": {
     "slide_type": "subslide"
    }
   },
   "source": [
    "\n",
    "\n",
    "### ingredients explained\n",
    "```mylib``` (1st level): contains all package meta information\n",
    "\n",
    "```mylib``` (2nd level): contains the actual code (can be imported)\n",
    "\n",
    "```README.md```: markdown file with essential package information. \n",
    "\n",
    "```.git```: use version control! (e.g. think of ```.gitignore```)\n",
    "\n",
    "```__init__.py```: access modules behave like package attributes\n",
    "\n",
    "```setup.py```: necessary for installation\n",
    "\n",
    "\n"
   ]
  },
  {
   "cell_type": "markdown",
   "metadata": {
    "slideshow": {
     "slide_type": "subslide"
    }
   },
   "source": [
    "```python \n",
    "# setup.py\n",
    "\n",
    "from setuptools import setup\n",
    "\n",
    "setup(name='mylib',\n",
    "      version='0.1',\n",
    "      description='A lib I dream of',\n",
    "      url='http://github.com/philipphanemann/mylibPUG',\n",
    "      author='PhilippHanemann',\n",
    "      author_email='goforit@example.com',\n",
    "      license='MIT',\n",
    "      packages=['mylib'],\n",
    "      zip_safe=False)\n",
    "```"
   ]
  },
  {
   "cell_type": "markdown",
   "metadata": {
    "slideshow": {
     "slide_type": "subslide"
    }
   },
   "source": [
    "for local package installation:\n",
    "\n",
    "```$ pip install .```\n",
    "\n",
    "\n",
    "for developers installation changes to the source code are immediately available to others on our system\n",
    "\n",
    "```$ pip install -e .```"
   ]
  },
  {
   "cell_type": "markdown",
   "metadata": {
    "slideshow": {
     "slide_type": "slide"
    }
   },
   "source": [
    "## some more conventions"
   ]
  },
  {
   "cell_type": "markdown",
   "metadata": {
    "slideshow": {
     "slide_type": "subslide"
    }
   },
   "source": [
    "### modularize: use distinguished modules\n",
    "\n",
    "```\n",
    "mylib\n",
    "│\n",
    "└───mylib\n",
    "    │  __init__.py\n",
    "    │  module_topic_1.py\n",
    "    │  module_topic_2.py\n",
    "```"
   ]
  },
  {
   "cell_type": "markdown",
   "metadata": {
    "slideshow": {
     "slide_type": "subslide"
    }
   },
   "source": [
    "### avoid name clashes e.g. \n",
    "\n",
    "```python \n",
    "    import lib as lb\n",
    "    lb.some_func() # reduces many import statements\n",
    "``` \n",
    "instead of\n",
    "\n",
    "```python\n",
    "    from lib import *\n",
    "    some_func() # might be ambiguous\n",
    "```"
   ]
  },
  {
   "cell_type": "markdown",
   "metadata": {
    "slideshow": {
     "slide_type": "fragment"
    }
   },
   "source": [
    "\"The import statement uses the following convention: if a package’s ```__init__.py``` code defines a list named ```__all__```, it is taken to be the list of module names that should be imported when from package import * is encountered.\" [Python docs on Modules](https://docs.python.org/3.6/tutorial/modules.html)"
   ]
  },
  {
   "cell_type": "markdown",
   "metadata": {
    "slideshow": {
     "slide_type": "slide"
    }
   },
   "source": [
    "## further meta information "
   ]
  },
  {
   "cell_type": "markdown",
   "metadata": {
    "slideshow": {
     "slide_type": "subslide"
    }
   },
   "source": [
    "```python \n",
    "from setuptools import setup\n",
    "\n",
    "setup(name='mylib',\n",
    "      classifiers=[\n",
    "        'Development Status :: 3 - Alpha',\n",
    "        'License :: OSI Approved :: MIT License',\n",
    "        'Programming Language :: Python :: 2.7',\n",
    "        'Topic :: Text Processing :: Linguistic',\n",
    "      ],)\n",
    "```\n",
    "\n",
    "There are plenty of classifiers available on [pypi](https://pypi.python.org/pypi?%3Aaction=list_classifiers).\n"
   ]
  },
  {
   "cell_type": "markdown",
   "metadata": {
    "slideshow": {
     "slide_type": "subslide"
    }
   },
   "source": [
    "```\n",
    "mylib\n",
    "│   LICENCES (folder)\n",
    "│   ci (folder for continuous integration) \n",
    "│   .travis.yml\n",
    "│   .gitattributes\n",
    "│\n",
    "└───mylib\n",
    "```"
   ]
  },
  {
   "cell_type": "markdown",
   "metadata": {
    "slideshow": {
     "slide_type": "slide"
    }
   },
   "source": [
    "# Test, Test, Test\n",
    "\n",
    "Actually, write them first!!! (TDD)"
   ]
  },
  {
   "cell_type": "markdown",
   "metadata": {
    "slideshow": {
     "slide_type": "subslide"
    }
   },
   "source": [
    "```\n",
    "mylib\n",
    "│   \n",
    "└───mylib\n",
    "    │   __init__.py\n",
    "    │   reusable_code.py\n",
    "    └───tests\n",
    "        ├───resources_for_my_tests\n",
    "        │   __init__.py \n",
    "        │   tests_for_my_module_1.py \n",
    "```"
   ]
  },
  {
   "cell_type": "markdown",
   "metadata": {
    "slideshow": {
     "slide_type": "slide"
    }
   },
   "source": [
    "# extending to a command line tool"
   ]
  },
  {
   "cell_type": "markdown",
   "metadata": {
    "slideshow": {
     "slide_type": "subslide"
    }
   },
   "source": [
    "### 1. scripts - kwarg\n",
    "\n",
    "```python\n",
    "setup(\n",
    "    ...\n",
    "    scripts=['bin/my_lib'],\n",
    "    ...\n",
    ")\n",
    "```\n",
    "\n",
    "`$ my_lib` executes the script `my_lib` within the `bin` folder. Copies the script to `PATH`  "
   ]
  },
  {
   "cell_type": "markdown",
   "metadata": {
    "slideshow": {
     "slide_type": "fragment"
    }
   },
   "source": [
    "This allows the execution of other than python scripts as well."
   ]
  },
  {
   "cell_type": "markdown",
   "metadata": {
    "slideshow": {
     "slide_type": "subslide"
    }
   },
   "source": [
    "### 2.  entry_points\n",
    "\n",
    "```python \n",
    "setup(\n",
    "    ...\n",
    "    entry_points = {\n",
    "        'console_scripts': ['my_lib=mylib.reusable_code:some_reusable_func'],\n",
    "    }\n",
    "    ...\n",
    ")\n",
    "```\n",
    "\n",
    "`$ my_lib` executes `some_reusable_func`"
   ]
  },
  {
   "cell_type": "markdown",
   "metadata": {
    "slideshow": {
     "slide_type": "fragment"
    }
   },
   "source": [
    "Python functions (not scripts) are executed directly."
   ]
  },
  {
   "cell_type": "markdown",
   "metadata": {
    "slideshow": {
     "slide_type": "subslide"
    }
   },
   "source": [
    "### Adding command line arguments \n",
    "\n",
    "You might want to have a look at [click](http://click.pocoo.org/5/) by Armin Ronacher"
   ]
  },
  {
   "cell_type": "markdown",
   "metadata": {
    "slideshow": {
     "slide_type": "slide"
    }
   },
   "source": [
    "## Next step: packages for conda\n",
    "\n",
    "`$ conda install my_lib`\n",
    "\n",
    "[Building conda packages from scratch](https://conda.io/docs/user-guide/tutorials/build-pkgs.html)\n",
    " "
   ]
  },
  {
   "cell_type": "markdown",
   "metadata": {
    "slideshow": {
     "slide_type": "slide"
    }
   },
   "source": [
    "## tricky parts - any suggestions on\n",
    "- relationships within the package ?"
   ]
  },
  {
   "cell_type": "code",
   "execution_count": null,
   "metadata": {
    "collapsed": true
   },
   "outputs": [],
   "source": []
  }
 ],
 "metadata": {
  "celltoolbar": "Slideshow",
  "kernelspec": {
   "display_name": "Python 3",
   "language": "python",
   "name": "python3"
  },
  "language_info": {
   "codemirror_mode": {
    "name": "ipython",
    "version": 3
   },
   "file_extension": ".py",
   "mimetype": "text/x-python",
   "name": "python",
   "nbconvert_exporter": "python",
   "pygments_lexer": "ipython3",
   "version": "3.5.2"
  }
 },
 "nbformat": 4,
 "nbformat_minor": 1
}
