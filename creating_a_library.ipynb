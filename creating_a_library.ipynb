{
 "cells": [
  {
   "cell_type": "markdown",
   "metadata": {},
   "source": [
    "# How to creat a python package/\n",
    "# write reusable code\n",
    "\n",
    "Philipp Haneman\n",
    "\n",
    "Python User Group - Leipzig - Sep 2017"
   ]
  },
  {
   "cell_type": "markdown",
   "metadata": {
    "slideshow": {
     "slide_type": "slide"
    }
   },
   "source": [
    "# Why?"
   ]
  },
  {
   "cell_type": "markdown",
   "metadata": {
    "slideshow": {
     "slide_type": "fragment"
    }
   },
   "source": [
    "- reuse old work (don' invent the wheel twice)\n",
    "- reliable (sustainably remove bugs)\n",
    "- structure your code"
   ]
  },
  {
   "cell_type": "markdown",
   "metadata": {
    "slideshow": {
     "slide_type": "slide"
    }
   },
   "source": [
    "# How - Option 1: embedding into scripts\n"
   ]
  },
  {
   "cell_type": "markdown",
   "metadata": {
    "slideshow": {
     "slide_type": "subslide"
    }
   },
   "source": [
    "```python\n",
    "# reusable_code.py\n",
    "def some_reusable_func():\n",
    "    \"\"\" remember to write a doc string\"\"\"\n",
    "    return 'some result'\n",
    "    \n",
    "class ReusableClass():\n",
    "    \"\"\" remember to write a doc string\"\"\"\n",
    "    pass\n",
    "    \n",
    "if __name__ == '__main__':\n",
    "    # some code for running this script\n",
    "```\n",
    "\n"
   ]
  },
  {
   "cell_type": "markdown",
   "metadata": {
    "slideshow": {
     "slide_type": "subslide"
    }
   },
   "source": [
    "```python\n",
    "# some_importing_module.py\n",
    "from reusable_code import some_reusable_func, ReusableClass\n",
    "\n",
    "# now I can do something with the imported stuff without running reusable_code.py\n",
    "```\n"
   ]
  },
  {
   "cell_type": "markdown",
   "metadata": {
    "slideshow": {
     "slide_type": "fragment"
    }
   },
   "source": [
    "## BUT !\n",
    "The module ```reusable_code.py``` has to be in the same folder or in your python path. \n"
   ]
  },
  {
   "cell_type": "markdown",
   "metadata": {
    "slideshow": {
     "slide_type": "fragment"
    }
   },
   "source": [
    "\n",
    "Essentially, we want to acces our source code conveniently frome everywhere in our environment."
   ]
  },
  {
   "cell_type": "markdown",
   "metadata": {
    "slideshow": {
     "slide_type": "slide"
    }
   },
   "source": [
    "# How - Option 2: creating an own package\n",
    "It offers the following:\n",
    "\n",
    "```from mylib.reusable_code import some_reusable_func```\n"
   ]
  },
  {
   "cell_type": "markdown",
   "metadata": {
    "slideshow": {
     "slide_type": "fragment"
    }
   },
   "source": [
    "* A great recipe can be found on: [How To Package Your Python Code](https://python-packaging.readthedocs.io/en/latest/)"
   ]
  },
  {
   "cell_type": "markdown",
   "metadata": {
    "slideshow": {
     "slide_type": "slide"
    }
   },
   "source": [
    "## minimal folder structure to  \n",
    "\n",
    "```\n",
    "mylib\n",
    "│   README.md\n",
    "│   .git  \n",
    "│   setup.py\n",
    "│\n",
    "└───mylib\n",
    "    │  __init__.py\n",
    "    │  reusable_code.py \n",
    "```\n",
    "\n"
   ]
  },
  {
   "cell_type": "markdown",
   "metadata": {
    "slideshow": {
     "slide_type": "subslide"
    }
   },
   "source": [
    "Actually, only ```__init__.py``` and ```setup.py``` are required. But, be nice to the user! :-)"
   ]
  },
  {
   "cell_type": "markdown",
   "metadata": {
    "slideshow": {
     "slide_type": "subslide"
    }
   },
   "source": [
    "\n",
    "\n",
    "### ingredients explained\n",
    "```mylib (1st level)```: contains all meta information\n",
    "\n",
    "```mylib (2nd level)```: contains the actual code (can be import with ```import mylib```\n",
    "\n",
    "```README.md```: markdown file with essential package information. Immediately visible to the user on github\n",
    "\n",
    "```.git```: use version control ;-)\n",
    "\n",
    "```__init__.py```: makes modules behave like package attributes (can be accesses with ```\".\"```\n",
    "\n",
    "```setup.py```: necessary for installation\n",
    "\n",
    "\n"
   ]
  },
  {
   "cell_type": "markdown",
   "metadata": {
    "slideshow": {
     "slide_type": "subslide"
    }
   },
   "source": [
    "```python \n",
    "# setup.py\n",
    "\n",
    "from setuptools import setup\n",
    "\n",
    "setup(name='mylib',\n",
    "      version='0.1',\n",
    "      description='A lib I dream of',\n",
    "      url='http://github.com/philipphanemann/mylibPUG',\n",
    "      author='PhilippHanemann',\n",
    "      author_email='goforit@example.com',\n",
    "      license='MIT',\n",
    "      packages=['mylib'],\n",
    "      zip_safe=False)\n",
    "```"
   ]
  },
  {
   "cell_type": "markdown",
   "metadata": {
    "slideshow": {
     "slide_type": "subslide"
    }
   },
   "source": [
    "for local package installation:\n",
    "\n",
    "```$ pip install .```\n",
    "\n",
    "\n",
    "for developers installation changes to the source code are immediately available to others on our system\n",
    "\n",
    "```$ pip install -e .```"
   ]
  },
  {
   "cell_type": "code",
   "execution_count": null,
   "metadata": {
    "collapsed": true
   },
   "outputs": [],
   "source": []
  }
 ],
 "metadata": {
  "celltoolbar": "Slideshow",
  "kernelspec": {
   "display_name": "Python 3",
   "language": "python",
   "name": "python3"
  },
  "language_info": {
   "codemirror_mode": {
    "name": "ipython",
    "version": 3
   },
   "file_extension": ".py",
   "mimetype": "text/x-python",
   "name": "python",
   "nbconvert_exporter": "python",
   "pygments_lexer": "ipython3",
   "version": "3.5.2"
  }
 },
 "nbformat": 4,
 "nbformat_minor": 1
}
